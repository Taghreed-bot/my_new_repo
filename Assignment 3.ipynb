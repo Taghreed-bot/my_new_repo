{
 "cells": [
  {
   "cell_type": "markdown",
   "metadata": {},
   "source": [
    "# Assignment 3"
   ]
  },
  {
   "cell_type": "markdown",
   "metadata": {},
   "source": [
    "### Write a function to count the number 4 in a given list."
   ]
  },
  {
   "cell_type": "code",
   "execution_count": 4,
   "metadata": {},
   "outputs": [
    {
     "name": "stdout",
     "output_type": "stream",
     "text": [
      "Enter list numbers :4,5,7,4,4,2,1,4,5,4,8,0,4,4\n",
      "7\n"
     ]
    }
   ],
   "source": [
    "def func():\n",
    "    count=0\n",
    "    lst=input(\"Enter list numbers :\")\n",
    "    lst=list(lst.split(\",\"))\n",
    "    for num in lst:\n",
    "        if int(num)==4 :\n",
    "            count+=1\n",
    "    print(count)\n",
    "func()\n",
    "    \n",
    "    "
   ]
  },
  {
   "cell_type": "markdown",
   "metadata": {},
   "source": [
    "### write a  function to check whether a number is divisible by another number."
   ]
  },
  {
   "cell_type": "code",
   "execution_count": 6,
   "metadata": {},
   "outputs": [
    {
     "name": "stdout",
     "output_type": "stream",
     "text": [
      "Enter number :24\n",
      "2\n",
      "3\n",
      "4\n",
      "6\n",
      "8\n",
      "12\n",
      "24\n"
     ]
    }
   ],
   "source": [
    "def func():\n",
    "    num=int(input(\"Enter number :\"))\n",
    "    for i in range(2,num+1):\n",
    "        if num%i==0:\n",
    "            print(i)\n",
    "            \n",
    "func()"
   ]
  },
  {
   "cell_type": "markdown",
   "metadata": {},
   "source": [
    "### write a function to find the maximum and minimum numbers from a sequence of numbers."
   ]
  },
  {
   "cell_type": "code",
   "execution_count": 12,
   "metadata": {},
   "outputs": [
    {
     "name": "stdout",
     "output_type": "stream",
     "text": [
      "Enter sequence of numbers :5,7,9,1\n",
      "the maximum is 9 and  minimum is 1 \n"
     ]
    }
   ],
   "source": [
    "def fun():\n",
    "    lst=input(\"Enter sequence of numbers :\")\n",
    "    l=list(lst.split(\",\"))\n",
    "    max=0\n",
    "    min=len(l)-1    \n",
    "    for num in l:\n",
    "        if max<int(num):\n",
    "            max=int(num)\n",
    "        if min>int(num):\n",
    "            min=int(num)\n",
    "    print(\"the maximum is {} and minimum is {} \".format(max,min))\n",
    "fun()"
   ]
  },
  {
   "cell_type": "markdown",
   "metadata": {},
   "source": [
    "### Write a Python function that takes two lists and returns True if they have at least one common member."
   ]
  },
  {
   "cell_type": "code",
   "execution_count": 25,
   "metadata": {},
   "outputs": [
    {
     "name": "stdout",
     "output_type": "stream",
     "text": [
      "Enter first list numbers :3,4,5\n",
      "Enter second list numbers :3,1.7\n"
     ]
    },
    {
     "data": {
      "text/plain": [
       "True"
      ]
     },
     "execution_count": 25,
     "metadata": {},
     "output_type": "execute_result"
    }
   ],
   "source": [
    "def fun():\n",
    "    lst1=input(\"Enter first list numbers :\")\n",
    "    lst2=input(\"Enter second list numbers :\")\n",
    "    l1=list(lst1.split(\",\"))\n",
    "    l2=list(lst2.split(\",\"))\n",
    "    \n",
    "    \n",
    "    \n",
    "    for n1 in l1:\n",
    "        for n2 in l2:\n",
    "            if int(n1)==int(n2):\n",
    "                return True\n",
    "            else:\n",
    "                return False\n",
    "                \n",
    "fun()               \n"
   ]
  },
  {
   "cell_type": "markdown",
   "metadata": {},
   "source": [
    "### Write a Python function to calculate the factorial of a number (a non-negative integer). The function accepts the number from the user"
   ]
  },
  {
   "cell_type": "code",
   "execution_count": 11,
   "metadata": {},
   "outputs": [
    {
     "name": "stdout",
     "output_type": "stream",
     "text": [
      "Enter number :5\n"
     ]
    },
    {
     "data": {
      "text/plain": [
       "120"
      ]
     },
     "execution_count": 11,
     "metadata": {},
     "output_type": "execute_result"
    }
   ],
   "source": [
    "def factorial(num):\n",
    "    if num==0:\n",
    "        return 1\n",
    "    else:\n",
    "         return num*factorial(num-1)\n",
    "\n",
    "        \n",
    "number=int(input(\"Enter number :\"))\n",
    "factorial(number)\n"
   ]
  },
  {
   "cell_type": "markdown",
   "metadata": {},
   "source": [
    "### Write a Python function to check whether a number is in a given range.\n",
    "\n",
    "### The range is from 3 to 11\n"
   ]
  },
  {
   "cell_type": "code",
   "execution_count": 42,
   "metadata": {},
   "outputs": [
    {
     "name": "stdout",
     "output_type": "stream",
     "text": [
      "Enter Number : 10\n",
      "number is in a range\n"
     ]
    }
   ],
   "source": [
    "def func(number):\n",
    "    for num in range(3,12):\n",
    "        if number< 12 and number>=3:\n",
    "            print(\"number is in a range\")\n",
    "            break\n",
    "        else:\n",
    "            print(\"out of range\")\n",
    "            break\n",
    "n=int(input(\"Enter Number : \"))\n",
    "func(n)"
   ]
  },
  {
   "cell_type": "markdown",
   "metadata": {},
   "source": [
    "### Write a  program to create the multiplication table (from 1 to 10) of a number."
   ]
  },
  {
   "cell_type": "code",
   "execution_count": 46,
   "metadata": {},
   "outputs": [
    {
     "name": "stdout",
     "output_type": "stream",
     "text": [
      "Enter Number : 5\n",
      "5 * 1 = 5\n",
      "5 * 2 = 10\n",
      "5 * 3 = 15\n",
      "5 * 4 = 20\n",
      "5 * 5 = 25\n",
      "5 * 6 = 30\n",
      "5 * 7 = 35\n",
      "5 * 8 = 40\n",
      "5 * 9 = 45\n",
      "5 * 10 = 50\n"
     ]
    }
   ],
   "source": [
    "def func(num):\n",
    "    for i in range(1,11):\n",
    "        print(num,\"*\",i,\"=\",num*i)\n",
    "        \n",
    "n=int(input(\"Enter Number : \"))\n",
    "func(n)"
   ]
  },
  {
   "cell_type": "markdown",
   "metadata": {},
   "source": [
    "#### LESSER OF TWO EVENS: Write a function that returns the lesser of two given numbers *if* both numbers are even, but returns the greater if one or both numbers are odd\n",
    "    lesser_of_two_evens(2,4) --> 2\n",
    "    lesser_of_two_evens(2,5) --> 5"
   ]
  },
  {
   "cell_type": "code",
   "execution_count": 3,
   "metadata": {},
   "outputs": [
    {
     "name": "stdout",
     "output_type": "stream",
     "text": [
      "Enter Number 1 : 2\n",
      "Enter Number 2 : 5\n"
     ]
    },
    {
     "data": {
      "text/plain": [
       "5"
      ]
     },
     "execution_count": 3,
     "metadata": {},
     "output_type": "execute_result"
    }
   ],
   "source": [
    "def lesser_of_two_evens(num1,num2):\n",
    "    if num1%2==0 and num2%2==0:\n",
    "        if num1<num2:\n",
    "            return num1\n",
    "        else:\n",
    "            return num2\n",
    "    if num1%2==0 or num2%2!=0:\n",
    "        if num1>num2:\n",
    "            return num1\n",
    "        else:\n",
    "            return num2\n",
    "n1=int(input(\"Enter Number 1 : \"))\n",
    "n2=int(input(\"Enter Number 2 : \"))\n",
    "lesser_of_two_evens(n1,n2)"
   ]
  },
  {
   "cell_type": "markdown",
   "metadata": {},
   "source": [
    "#### ANIMAL CRACKERS: Write a function takes a two-word string and returns True if both words begin with same letter\n",
    "    animal_crackers('Levelheaded Llama') --> True\n",
    "    animal_crackers('Crazy Kangaroo') --> False"
   ]
  },
  {
   "cell_type": "code",
   "execution_count": 5,
   "metadata": {},
   "outputs": [
    {
     "name": "stdout",
     "output_type": "stream",
     "text": [
      "Enter a two-word string :Crazy Kangaroo\n"
     ]
    },
    {
     "data": {
      "text/plain": [
       "False"
      ]
     },
     "execution_count": 5,
     "metadata": {},
     "output_type": "execute_result"
    }
   ],
   "source": [
    "def func (str):\n",
    "    st=str.split(\" \")\n",
    "    if st[0][0]==st[1][0]:\n",
    "        return True\n",
    "    else:\n",
    "        return False\n",
    "str=input(\"Enter a two-word string :\")\n",
    "func(str)\n",
    "    "
   ]
  },
  {
   "cell_type": "markdown",
   "metadata": {},
   "source": [
    "#### MAKES TWENTY: Given two integers, return True if the sum of the integers is 20 *or* if one of the integers is 20. If not, return False\n",
    "\n",
    "    makes_twenty(20,10) --> True\n",
    "    makes_twenty(12,8) --> True\n",
    "    makes_twenty(2,3) --> False"
   ]
  },
  {
   "cell_type": "code",
   "execution_count": 10,
   "metadata": {},
   "outputs": [
    {
     "name": "stdout",
     "output_type": "stream",
     "text": [
      "Enter Number 1 : 15\n",
      "Enter Number 2 : 5\n"
     ]
    },
    {
     "data": {
      "text/plain": [
       "True"
      ]
     },
     "execution_count": 10,
     "metadata": {},
     "output_type": "execute_result"
    }
   ],
   "source": [
    "def makes_twenty(num1,num2):\n",
    "    if num1+num2==20:\n",
    "        return True\n",
    "    elif num1==20:\n",
    "        return True\n",
    "    elif num2==20:\n",
    "        return True\n",
    "    else:\n",
    "        return False\n",
    "\n",
    "\n",
    "\n",
    "\n",
    "n1=int(input(\"Enter Number 1 : \"))\n",
    "n2=int(input(\"Enter Number 2 : \"))\n",
    "makes_twenty(n1,n2)"
   ]
  },
  {
   "cell_type": "markdown",
   "metadata": {},
   "source": [
    "#### ALMOST THERE: Given an integer n, return True if n is within 10 of either 100 or 200\n",
    "\n",
    "    almost_there(90) --> True\n",
    "    almost_there(104) --> True\n",
    "    almost_there(150) --> False\n",
    "    almost_there(209) --> True\n",
    "    \n",
    "NOTE: `abs(num)` returns the absolute value of a number"
   ]
  },
  {
   "cell_type": "code",
   "execution_count": 10,
   "metadata": {},
   "outputs": [
    {
     "name": "stdout",
     "output_type": "stream",
     "text": [
      "Enter Number209\n"
     ]
    },
    {
     "data": {
      "text/plain": [
       "True"
      ]
     },
     "execution_count": 10,
     "metadata": {},
     "output_type": "execute_result"
    }
   ],
   "source": [
    "def almost_there(num):\n",
    "    if abs(100 - num) <= 10 or abs(200 - num) <= 10:\n",
    "        return True\n",
    "    else:\n",
    "        return False\n",
    "num=int(input(\"Enter Number\"))\n",
    "almost_there(num)"
   ]
  },
  {
   "cell_type": "markdown",
   "metadata": {},
   "source": [
    "#### BLACKJACK: Given three integers between 1 and 11, if their sum is less than or equal to 21, return their sum. If their sum exceeds 21 *and* there's an eleven, reduce the total sum by 10. Finally, if the sum  exceeds 21, return 'BUST'\n",
    "    blackjack(5,6,7) --> 18\n",
    "    blackjack(9,9,9) --> 'BUST'\n",
    "    blackjack(9,9,11) --> 19"
   ]
  },
  {
   "cell_type": "code",
   "execution_count": 7,
   "metadata": {},
   "outputs": [
    {
     "name": "stdout",
     "output_type": "stream",
     "text": [
      "Enter Number 1 :9\n",
      "Enter Number 2 :9\n",
      "Enter Number 3 :9\n",
      "BUST\n"
     ]
    }
   ],
   "source": [
    "def func(n1,n2,n3):\n",
    "    sum=n1+n2+n3\n",
    "    for i in range(1,12):\n",
    "        if sum<=21:\n",
    "            print(\"sum is\",sum)\n",
    "            break\n",
    "        elif sum>21:\n",
    "            if n1==11 or n2==11 or n3==11:\n",
    "                return(\"sum is \",sum,\"and after reduce the total sum by 10 is {}\".format(sum-10))\n",
    "            else:\n",
    "                print(\"BUST\")\n",
    "                break\n",
    "n1=int(input(\"Enter Number 1 :\"))\n",
    "n2=int(input(\"Enter Number 2 :\"))\n",
    "n3=int(input(\"Enter Number 3 :\"))\n",
    "func(n1,n2,n3)"
   ]
  },
  {
   "cell_type": "code",
   "execution_count": null,
   "metadata": {},
   "outputs": [],
   "source": []
  },
  {
   "cell_type": "code",
   "execution_count": null,
   "metadata": {},
   "outputs": [],
   "source": []
  }
 ],
 "metadata": {
  "kernelspec": {
   "display_name": "Python 3 (ipykernel)",
   "language": "python",
   "name": "python3"
  },
  "language_info": {
   "codemirror_mode": {
    "name": "ipython",
    "version": 3
   },
   "file_extension": ".py",
   "mimetype": "text/x-python",
   "name": "python",
   "nbconvert_exporter": "python",
   "pygments_lexer": "ipython3",
   "version": "3.9.7"
  }
 },
 "nbformat": 4,
 "nbformat_minor": 2
}
